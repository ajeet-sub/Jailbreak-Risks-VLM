{
 "cells": [
  {
   "cell_type": "code",
   "execution_count": 1,
   "id": "2c02ecc8-2506-4c4a-846d-5d5b5c079b68",
   "metadata": {},
   "outputs": [
    {
     "name": "stdout",
     "output_type": "stream",
     "text": [
      "\u001b[33mWARNING: Running pip as the 'root' user can result in broken permissions and conflicting behaviour with the system package manager, possibly rendering your system unusable.It is recommended to use a virtual environment instead: https://pip.pypa.io/warnings/venv. Use the --root-user-action option if you know what you are doing and want to suppress this warning.\u001b[0m\u001b[33m\n",
      "\u001b[0m\n",
      "\u001b[1m[\u001b[0m\u001b[34;49mnotice\u001b[0m\u001b[1;39;49m]\u001b[0m\u001b[39;49m A new release of pip is available: \u001b[0m\u001b[31;49m24.2\u001b[0m\u001b[39;49m -> \u001b[0m\u001b[32;49m25.1.1\u001b[0m\n",
      "\u001b[1m[\u001b[0m\u001b[34;49mnotice\u001b[0m\u001b[1;39;49m]\u001b[0m\u001b[39;49m To update, run: \u001b[0m\u001b[32;49mpython -m pip install --upgrade pip\u001b[0m\n"
     ]
    }
   ],
   "source": [
    "!pip -q install --upgrade \"transformers>=4.41.0\" peft datasets bitsandbytes accelerate timm pillow"
   ]
  },
  {
   "cell_type": "code",
   "execution_count": 2,
   "id": "a8fab710-f177-4a7a-8d02-4b6d55a949b4",
   "metadata": {},
   "outputs": [],
   "source": [
    "import os, pathlib\n",
    "\n",
    "# Persist all Hugging Face artefacts under /workspace\n",
    "HF_CACHE = \"/workspace/hf_cache\"\n",
    "pathlib.Path(f\"{HF_CACHE}/transformers\").mkdir(parents=True, exist_ok=True)\n",
    "pathlib.Path(f\"{HF_CACHE}/datasets\").mkdir(parents=True, exist_ok=True)\n",
    "\n",
    "os.environ[\"HF_HOME\"] = HF_CACHE                   # covers both libs by default\n",
    "os.environ[\"TRANSFORMERS_CACHE\"] = f\"{HF_CACHE}/transformers\"\n",
    "os.environ[\"HF_DATASETS_CACHE\"] = f\"{HF_CACHE}/datasets\""
   ]
  },
  {
   "cell_type": "code",
   "execution_count": 3,
   "id": "e179a9e4-55d6-4c9d-94c7-8e43daa1c45f",
   "metadata": {},
   "outputs": [
    {
     "name": "stderr",
     "output_type": "stream",
     "text": [
      "/usr/local/lib/python3.11/dist-packages/transformers/utils/hub.py:111: FutureWarning: Using `TRANSFORMERS_CACHE` is deprecated and will be removed in v5 of Transformers. Use `HF_HOME` instead.\n",
      "  warnings.warn(\n"
     ]
    }
   ],
   "source": [
    "from transformers import LlavaForConditionalGeneration, LlavaProcessor\n",
    "from peft import LoraConfig, get_peft_model, prepare_model_for_kbit_training\n"
   ]
  },
  {
   "cell_type": "code",
   "execution_count": 4,
   "id": "50ee8129-1c9a-4ad9-a367-3aedba4ab39f",
   "metadata": {},
   "outputs": [
    {
     "name": "stderr",
     "output_type": "stream",
     "text": [
      "The `load_in_4bit` and `load_in_8bit` arguments are deprecated and will be removed in the future versions. Please, pass a `BitsAndBytesConfig` object in `quantization_config` argument instead.\n"
     ]
    },
    {
     "data": {
      "application/vnd.jupyter.widget-view+json": {
       "model_id": "c3648a0002f44681868a3f8bc34e4f3f",
       "version_major": 2,
       "version_minor": 0
      },
      "text/plain": [
       "Loading checkpoint shards:   0%|          | 0/3 [00:00<?, ?it/s]"
      ]
     },
     "metadata": {},
     "output_type": "display_data"
    },
    {
     "name": "stderr",
     "output_type": "stream",
     "text": [
      "Using a slow image processor as `use_fast` is unset and a slow processor was saved with this model. `use_fast=True` will be the default behavior in v4.52, even if the model was saved with a slow processor. This will result in minor differences in outputs. You'll still be able to use a slow processor with `use_fast=False`.\n"
     ]
    }
   ],
   "source": [
    "MODEL_NAME = \"llava-hf/llava-1.5-7b-hf\"\n",
    "\n",
    "model = LlavaForConditionalGeneration.from_pretrained(\n",
    "    MODEL_NAME,\n",
    "    load_in_4bit=True,\n",
    "    trust_remote_code=True,\n",
    "    device_map=\"auto\",\n",
    "    cache_dir=HF_CACHE,          # ← caches to /workspace\n",
    ")\n",
    "model = prepare_model_for_kbit_training(model)\n",
    "\n",
    "# right after you load your processor:\n",
    "processor = LlavaProcessor.from_pretrained(\n",
    "    MODEL_NAME,\n",
    "    trust_remote_code=True,\n",
    "    cache_dir=HF_CACHE,\n",
    ")\n",
    "\n",
    "# ──────────────────────────────────────\n",
    "# 1) Tell the processor how to split each image into tokens\n",
    "# ──────────────────────────────────────\n",
    "processor.patch_size = model.config.vision_config.patch_size\n",
    "# If your vision backbone adds a CLS token, this should be 1, otherwise 0.\n",
    "# Most LLaVA models use 1:\n",
    "processor.num_additional_image_tokens = 1  \n",
    "processor.vision_feature_select_strategy = model.config.vision_feature_select_strategy\n"
   ]
  },
  {
   "cell_type": "code",
   "execution_count": 5,
   "id": "22ff84f1-82ea-4720-bdb8-eba4d5faa4f3",
   "metadata": {},
   "outputs": [
    {
     "name": "stdout",
     "output_type": "stream",
     "text": [
      "trainable params: 21,168,128 || all params: 7,084,595,200 || trainable%: 0.2988\n"
     ]
    }
   ],
   "source": [
    "from peft import TaskType\n",
    "lora_cfg = LoraConfig(\n",
    "    r=8, lora_alpha=16, lora_dropout=0.05,\n",
    "    target_modules=[\n",
    "        \"q_proj\", \"k_proj\", \"v_proj\", \"o_proj\",\n",
    "        \"gate_proj\", \"up_proj\", \"down_proj\"],\n",
    "    bias=\"none\", task_type=TaskType.CAUSAL_LM)\n",
    "model = get_peft_model(model, lora_cfg)\n",
    "model.print_trainable_parameters()"
   ]
  },
  {
   "cell_type": "code",
   "execution_count": null,
   "id": "d0145b1a-39ad-440e-95d9-b4e784077b93",
   "metadata": {
    "scrolled": true
   },
   "outputs": [
    {
     "name": "stderr",
     "output_type": "stream",
     "text": [
      "Repo card metadata block was not found. Setting CardData to empty.\n"
     ]
    },
    {
     "data": {
      "application/vnd.jupyter.widget-view+json": {
       "model_id": "d2b339cb11e64dffabcda708f33c05af",
       "version_major": 2,
       "version_minor": 0
      },
      "text/plain": [
       "Tokenising VQAv2 (num_proc=4):   0%|          | 0/443757 [00:00<?, ? examples/s]"
      ]
     },
     "metadata": {},
     "output_type": "display_data"
    }
   ],
   "source": [
    "from datasets import load_dataset, DownloadConfig\n",
    "def preprocess(example):\n",
    "    question = example[\"question\"]\n",
    "    answer   = example[\"answers\"][0][\"answer\"]\n",
    "\n",
    "    # single string: <image> token + question + assistant prompt + answer\n",
    "    prompt = f\"USER: <image>\\nQUESTION: {question}\\nASSISTANT:\"\n",
    "    full   = prompt + \" \" + answer\n",
    "\n",
    "    enc = processor(\n",
    "        text=full,\n",
    "        images=example[\"image\"],\n",
    "        padding=\"max_length\",\n",
    "        truncation=False,\n",
    "        max_length=512,                # or bump to model.config.max_position_embeddings\n",
    "        return_tensors=\"pt\",\n",
    "    )\n",
    "\n",
    "    input_ids      = enc[\"input_ids\"].squeeze(0)\n",
    "    attention_mask = enc[\"attention_mask\"].squeeze(0)\n",
    "    pixel_values   = enc[\"pixel_values\"].squeeze(0)\n",
    "\n",
    "    # mask out the prompt portion so only the answer contributes to loss\n",
    "    prompt_tokens = processor.tokenizer(prompt, add_special_tokens=False)[\"input_ids\"]\n",
    "    prompt_len    = len(prompt_tokens)\n",
    "\n",
    "    labels = input_ids.clone()\n",
    "    labels[:prompt_len] = -100\n",
    "\n",
    "    return {\n",
    "        \"input_ids\":      input_ids,\n",
    "        \"attention_mask\": attention_mask,\n",
    "        \"pixel_values\":   pixel_values,\n",
    "        \"labels\":         labels,\n",
    "    }\n",
    "\n",
    "# ────────────────────────────────────────────────────────────────\n",
    "# 2) Re-tokenize (force re-processing; drop the raw \"image\" column)\n",
    "# ────────────────────────────────────────────────────────────────\n",
    "download_cfg = DownloadConfig(resume_download=True, max_retries=5)\n",
    "\n",
    "tokenised_ds = (\n",
    "    load_dataset(\n",
    "        \"HuggingFaceM4/VQAv2\",\n",
    "        split=\"train\",\n",
    "        cache_dir=f\"{HF_CACHE}/datasets\",\n",
    "        trust_remote_code=True,\n",
    "        download_config=download_cfg,\n",
    "        streaming=False,\n",
    "    )\n",
    "    .map(\n",
    "        preprocess,\n",
    "        batched=False,\n",
    "        num_proc=4,\n",
    "        remove_columns=[\n",
    "            \"question_id\",\n",
    "            \"question\",\n",
    "            \"answers\",\n",
    "            \"multiple_choice_answer\",\n",
    "            \"image_id\",\n",
    "            \"question_type\",\n",
    "            \"answer_type\",\n",
    "            \"image\",            # drop the raw PIL image\n",
    "        ],\n",
    "        load_from_cache_file=False,  # force re-map with new preprocess()\n",
    "        desc=\"Tokenising VQAv2\",\n",
    "    )\n",
    ")\n",
    "\n",
    "print(\"Columns after preprocessing:\", tokenised_ds.column_names)"
   ]
  },
  {
   "cell_type": "code",
   "execution_count": null,
   "id": "eb3ba905-1d5a-48a2-b9d0-cbfa144c9507",
   "metadata": {},
   "outputs": [],
   "source": [
    "from transformers import TrainingArguments, Trainer, default_data_collator\n",
    "\n",
    "# 1) make sure pad token is set\n",
    "processor.tokenizer.pad_token = processor.tokenizer.eos_token\n",
    "model.config.pad_token_id      = processor.tokenizer.eos_token_id\n",
    "\n",
    "# 2) TrainingArguments for 5-epoch fine-tune on one A40 (≈84% free)\n",
    "training_args = TrainingArguments(\n",
    "    output_dir=\"./llava_vqav2_lora\",\n",
    "    num_train_epochs=5,\n",
    "    per_device_train_batch_size=1,    # fit in memory\n",
    "    gradient_accumulation_steps=8,    # effective batch size = 8\n",
    "    learning_rate=2e-4,\n",
    "    fp16=True,                        # half-precision\n",
    "    gradient_checkpointing=True,      # save memory\n",
    "    logging_steps=50,\n",
    "    save_steps=500,\n",
    "    save_total_limit=3,\n",
    "    remove_unused_columns=False,      # keep our “labels” field\n",
    ")\n",
    "\n",
    "# 3) build Trainer (no `label_names` arg)\n",
    "trainer = Trainer(\n",
    "    model=model,\n",
    "    args=training_args,\n",
    "    train_dataset=tokenised_ds,\n",
    "    data_collator=default_data_collator,\n",
    ")\n",
    "\n",
    "# 4) launch training\n",
    "trainer.train()\n",
    "\n",
    "# 5) save LoRA adapters + tokenizer\n",
    "model.save_pretrained(training_args.output_dir)\n",
    "processor.save_pretrained(training_args.output_dir)\n"
   ]
  },
  {
   "cell_type": "code",
   "execution_count": null,
   "id": "3a0a8dd8-4713-420c-b249-9e8c3d94f222",
   "metadata": {},
   "outputs": [],
   "source": []
  }
 ],
 "metadata": {
  "kernelspec": {
   "display_name": "Python 3 (ipykernel)",
   "language": "python",
   "name": "python3"
  },
  "language_info": {
   "codemirror_mode": {
    "name": "ipython",
    "version": 3
   },
   "file_extension": ".py",
   "mimetype": "text/x-python",
   "name": "python",
   "nbconvert_exporter": "python",
   "pygments_lexer": "ipython3",
   "version": "3.11.10"
  }
 },
 "nbformat": 4,
 "nbformat_minor": 5
}
